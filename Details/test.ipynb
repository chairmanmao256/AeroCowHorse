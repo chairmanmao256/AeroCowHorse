{
 "cells": [
  {
   "cell_type": "code",
   "execution_count": 1,
   "metadata": {},
   "outputs": [],
   "source": [
    "import pandas as pd\n",
    "import numpy as np"
   ]
  },
  {
   "cell_type": "code",
   "execution_count": 2,
   "metadata": {},
   "outputs": [],
   "source": [
    "def preprocessing(fname:str)->pd.DataFrame:\n",
    "    df = pd.read_excel(fname)\n",
    "    df = df[df[\"基本信息\"].notna()]\n",
    "    name_df = df.loc[df[\"基本信息\"]==\"姓名\"]\n",
    "    day_dict = {\n",
    "        \"每日统计\":     name_df[\"每日统计\"].to_numpy()[0][0:2],\n",
    "        \"Unnamed: 3\": name_df[\"Unnamed: 3\"].to_numpy()[0][0:2],\n",
    "        \"Unnamed: 4\": name_df[\"Unnamed: 4\"].to_numpy()[0][0:2],\n",
    "        \"Unnamed: 5\": name_df[\"Unnamed: 5\"].to_numpy()[0][0:2],\n",
    "        \"Unnamed: 6\": name_df[\"Unnamed: 6\"].to_numpy()[0][0:2],\n",
    "        \"Unnamed: 7\": name_df[\"Unnamed: 7\"].to_numpy()[0][0:2],\n",
    "        \"Unnamed: 8\": name_df[\"Unnamed: 8\"].to_numpy()[0][0:2],\n",
    "    }\n",
    "    df.rename(columns=day_dict, inplace = True)\n",
    "    df.fillna(\"NO INFO\", inplace=True)\n",
    "    df.drop(0, inplace = True)\n",
    "    \n",
    "    return df"
   ]
  },
  {
   "cell_type": "code",
   "execution_count": 3,
   "metadata": {},
   "outputs": [
    {
     "name": "stdout",
     "output_type": "stream",
     "text": [
      "             基本信息   出勤统计     周五       周六       周日     周一       周二       周三  \\\n",
      "1    Audrey Borne  24.23  10:32  NO INFO  NO INFO  11:53    14:41    10:58   \n",
      "3   Lubova Monroe   41.6  08:31  NO INFO    09:08  08:47  NO INFO  NO INFO   \n",
      "5  Monika Bullock  58.38  11:57    18:05    11:01  08:52    08:56    21:25   \n",
      "7      Iris Nolan   74.4  09:28  NO INFO    09:29  08:53    09:03    08:48   \n",
      "\n",
      "      周四  \n",
      "1  12:56  \n",
      "3  08:46  \n",
      "5  09:00  \n",
      "7  09:09  \n"
     ]
    }
   ],
   "source": [
    "df = preprocessing(\"./week1.xlsx\")\n",
    "print(df)"
   ]
  },
  {
   "cell_type": "code",
   "execution_count": 4,
   "metadata": {},
   "outputs": [],
   "source": [
    "def check_late(df: pd.DataFrame, hour = 9, min = 5,\n",
    "               dayList = [\"周一\",\"周二\",\"周三\",\"周四\", \"周五\"]) -> int:\n",
    "    late_num = 0\n",
    "    for day in dayList:\n",
    "        time_str = df[day].to_numpy()[0]\n",
    "        if time_str!=\"NO INFO\":\n",
    "            hour_, min_ = time_str.split(\":\")\n",
    "            if (int(hour_) == hour and int(min_) > min) or (int(hour_) > hour):\n",
    "                late_num += 1\n",
    "    \n",
    "    return late_num"
   ]
  },
  {
   "cell_type": "code",
   "execution_count": 5,
   "metadata": {},
   "outputs": [
    {
     "data": {
      "text/plain": [
       "9"
      ]
     },
     "execution_count": 5,
     "metadata": {},
     "output_type": "execute_result"
    }
   ],
   "source": [
    "s = \"09:10\"\n",
    "h, m = s.split(\":\")\n",
    "int(h)"
   ]
  },
  {
   "cell_type": "code",
   "execution_count": 6,
   "metadata": {},
   "outputs": [
    {
     "name": "stdout",
     "output_type": "stream",
     "text": [
      "           基本信息   出勤统计     周五       周六       周日     周一     周二     周三     周四\n",
      "1  Audrey Borne  24.23  10:32  NO INFO  NO INFO  11:53  14:41  10:58  12:56\n",
      "5\n"
     ]
    }
   ],
   "source": [
    "sub_df = df.loc[df[\"基本信息\"]==\"Audrey Borne\"]\n",
    "print(sub_df)\n",
    "print(check_late(sub_df))"
   ]
  },
  {
   "cell_type": "code",
   "execution_count": 7,
   "metadata": {},
   "outputs": [
    {
     "name": "stdout",
     "output_type": "stream",
     "text": [
      "             基本信息   出勤统计     周五       周六       周日     周一       周二       周三  \\\n",
      "1    Audrey Borne  24.23  10:32  NO INFO  NO INFO  11:53    14:41    10:58   \n",
      "3   Lubova Monroe   41.6  08:31  NO INFO    09:08  08:47  NO INFO  NO INFO   \n",
      "5  Monika Bullock  58.38  11:57    18:05    11:01  08:52    08:56    21:25   \n",
      "7      Iris Nolan   74.4  09:28  NO INFO    09:29  08:53    09:03    08:48   \n",
      "\n",
      "      周四  \n",
      "1  12:56  \n",
      "3  08:46  \n",
      "5  09:00  \n",
      "7  09:09  \n"
     ]
    }
   ],
   "source": [
    "print(df)"
   ]
  },
  {
   "cell_type": "code",
   "execution_count": 8,
   "metadata": {},
   "outputs": [
    {
     "name": "stdout",
     "output_type": "stream",
     "text": [
      "Audrey Borne\n",
      "Lubova Monroe\n",
      "Monika Bullock\n",
      "Iris Nolan\n"
     ]
    }
   ],
   "source": [
    "result_df = pd.read_excel(\"../nameList.xlsx\")\n",
    "week1 = np.zeros(len(result_df[\"姓名\"]))\n",
    "for name, time in zip(df[\"基本信息\"], df[\"出勤统计\"]):\n",
    "    print(name)\n",
    "    i = result_df.index[result_df[\"姓名\"]==name].tolist()[0]\n",
    "    week1[i] = time"
   ]
  },
  {
   "cell_type": "code",
   "execution_count": 9,
   "metadata": {},
   "outputs": [
    {
     "name": "stdout",
     "output_type": "stream",
     "text": [
      "[24.23 41.6  58.38  0.   74.4 ]\n"
     ]
    }
   ],
   "source": [
    "print(week1)"
   ]
  }
 ],
 "metadata": {
  "kernelspec": {
   "display_name": "opt-env",
   "language": "python",
   "name": "python3"
  },
  "language_info": {
   "codemirror_mode": {
    "name": "ipython",
    "version": 3
   },
   "file_extension": ".py",
   "mimetype": "text/x-python",
   "name": "python",
   "nbconvert_exporter": "python",
   "pygments_lexer": "ipython3",
   "version": "3.10.8"
  },
  "orig_nbformat": 4
 },
 "nbformat": 4,
 "nbformat_minor": 2
}
